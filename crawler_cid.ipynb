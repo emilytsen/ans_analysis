{
 "cells": [
  {
   "cell_type": "markdown",
   "metadata": {},
   "source": [
    "### Web Crawler que coleta codigos de cid das doenças  "
   ]
  },
  {
   "cell_type": "code",
   "execution_count": 1,
   "metadata": {},
   "outputs": [],
   "source": [
    "from selenium import webdriver\n",
    "from selenium.webdriver.common.by import By\n",
    "from selenium.webdriver.chrome.service import Service\n",
    "from selenium.webdriver.chrome.options import Options\n",
    "from selenium.webdriver.common.keys import Keys\n",
    "from selenium.webdriver.support.ui import WebDriverWait\n",
    "from selenium.webdriver.support import expected_conditions as EC\n",
    "import time\n",
    "import csv"
   ]
  },
  {
   "cell_type": "code",
   "execution_count": 2,
   "metadata": {},
   "outputs": [],
   "source": [
    "# Inicie o ChromeDriver sem especificar o caminho (assumindo que o ChromeDriver está no PATH)\n",
    "driver = webdriver.Chrome()"
   ]
  },
  {
   "cell_type": "code",
   "execution_count": 3,
   "metadata": {},
   "outputs": [
    {
     "name": "stdout",
     "output_type": "stream",
     "text": [
      "Conteúdo repetido, terminando...\n"
     ]
    }
   ],
   "source": [
    "\n",
    "try:\n",
    "    # Abre o site do CID-10\n",
    "    driver.get('https://pebmed.com.br/cid10/')\n",
    "\n",
    "    # Localiza o campo de busca e insere o termo \"joelho\"\n",
    "    search_box = WebDriverWait(driver, 10).until(\n",
    "        EC.presence_of_element_located((By.ID, 'campo-busca'))\n",
    "    )\n",
    "    search_box.send_keys('menisco')\n",
    "    search_box.send_keys(Keys.RETURN)\n",
    "\n",
    "    time.sleep(3)  # Aguarda o carregamento dos resultados\n",
    "\n",
    "    previous_page_content = \"\"\n",
    "\n",
    "    # Abre o arquivo CSV para escrever os resultados\n",
    "    with open('cids_menisco.csv', 'w', newline='', encoding='utf-8') as csvfile:\n",
    "        fieldnames = ['CID', 'DESCRICAO']\n",
    "        writer = csv.DictWriter(csvfile, fieldnames=fieldnames)\n",
    "        writer.writeheader()\n",
    "\n",
    "        while True:\n",
    "            # Coleta os resultados da página\n",
    "            codes = driver.find_elements(By.XPATH, '//div[@class=\"code__cid10\"]')\n",
    "            descriptions = driver.find_elements(By.XPATH, '//div[@class=\"description__cid10\"]')\n",
    "\n",
    "            current_page_content = \"\".join([code.text.strip() + description.text.strip() for code, description in zip(codes, descriptions)])\n",
    "\n",
    "            # Verifica se o conteúdo mudou, se não, sai do loop\n",
    "            if current_page_content == previous_page_content:\n",
    "                print(\"Conteúdo repetido, terminando...\")\n",
    "                break\n",
    "\n",
    "            # Atualiza o conteúdo da página anterior\n",
    "            previous_page_content = current_page_content\n",
    "\n",
    "            # Escreve os resultados no CSV\n",
    "            for code, description in zip(codes, descriptions):\n",
    "                writer.writerow({'CID': code.text.strip(), 'DESCRICAO': description.text.strip()})\n",
    "\n",
    "            try:\n",
    "                # Aguarda o botão \"Próxima página\" estar presente\n",
    "                next_button = WebDriverWait(driver, 15).until(\n",
    "                    EC.presence_of_element_located((By.CSS_SELECTOR, 'button.next'))\n",
    "                )\n",
    "\n",
    "                # Verifica se o botão está habilitado\n",
    "                if 'disabled' in next_button.get_attribute('class'):\n",
    "                    break  # Sai do loop se não houver próxima página\n",
    "\n",
    "                # Usa JavaScript para clicar no botão\n",
    "                driver.execute_script(\"arguments[0].click();\", next_button)\n",
    "\n",
    "                # Aguarda que os novos dados carreguem\n",
    "                time.sleep(3)  # Ajuste o tempo conforme necessário\n",
    "\n",
    "            except Exception as e:\n",
    "                print(f\"Erro: {e}\")\n",
    "                break  # Sai do loop se o botão não puder ser clicado ou ocorrer outro erro\n",
    "\n",
    "finally:\n",
    "    # Fecha o navegador\n",
    "    driver.quit()"
   ]
  }
 ],
 "metadata": {
  "kernelspec": {
   "display_name": "Python 3",
   "language": "python",
   "name": "python3"
  },
  "language_info": {
   "codemirror_mode": {
    "name": "ipython",
    "version": 3
   },
   "file_extension": ".py",
   "mimetype": "text/x-python",
   "name": "python",
   "nbconvert_exporter": "python",
   "pygments_lexer": "ipython3",
   "version": "3.12.3"
  }
 },
 "nbformat": 4,
 "nbformat_minor": 2
}
