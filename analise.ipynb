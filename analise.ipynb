{
 "cells": [
  {
   "cell_type": "code",
   "execution_count": 5,
   "metadata": {},
   "outputs": [],
   "source": [
    "import time\n",
    "import os\n",
    "import requests\n",
    "import pandas as pd\n"
   ]
  },
  {
   "cell_type": "code",
   "execution_count": 4,
   "metadata": {},
   "outputs": [
    {
     "name": "stdout",
     "output_type": "stream",
     "text": [
      "Arquivo convertido: C:\\Users\\etsen\\OneDrive - JACTO\\Síntegra Digital Health\\Data Science\\DadosExternos\\ans\\tb_inf_2010-01.dbf -> C:\\Users\\etsen\\OneDrive - JACTO\\Síntegra Digital Health\\Data Science\\DadosExternos\\ans\\tb_inf_2010-01.csv\n"
     ]
    }
   ],
   "source": [
    "from dbfread import DBF\n",
    "import pandas as pd\n",
    "\n",
    "# Define os caminhos para os arquivos\n",
    "dbf_path = r'C:\\Users\\etsen\\OneDrive - JACTO\\Síntegra Digital Health\\Data Science\\DadosExternos\\ans\\tb_inf_2010-01.dbf'\n",
    "csv_path = r'C:\\Users\\etsen\\OneDrive - JACTO\\Síntegra Digital Health\\Data Science\\DadosExternos\\ans\\tb_inf_2010-01.csv'\n",
    "\n",
    "# Lê o arquivo DBF\n",
    "table = DBF(dbf_path, load=True)\n",
    "\n",
    "# Converte para DataFrame do pandas\n",
    "df = pd.DataFrame(iter(table))\n",
    "\n",
    "# Salva como CSV\n",
    "df.to_csv(csv_path, index=False)\n",
    "\n",
    "print(f\"Arquivo convertido: {dbf_path} -> {csv_path}\")\n"
   ]
  },
  {
   "cell_type": "code",
   "execution_count": 6,
   "metadata": {},
   "outputs": [],
   "source": [
    "df = pd.read_csv(r'C:\\Users\\etsen\\OneDrive - JACTO\\Síntegra Digital Health\\Data Science\\DadosExternos\\ans\\tb_inf_2010-01.csv')"
   ]
  },
  {
   "cell_type": "code",
   "execution_count": 7,
   "metadata": {},
   "outputs": [
    {
     "name": "stdout",
     "output_type": "stream",
     "text": [
      "<class 'pandas.core.frame.DataFrame'>\n",
      "RangeIndex: 3401 entries, 0 to 3400\n",
      "Data columns (total 10 columns):\n",
      " #   Column      Non-Null Count  Dtype \n",
      "---  ------      --------------  ----- \n",
      " 0   OPERADORA   3401 non-null   int64 \n",
      " 1   ID_CMPT     3401 non-null   int64 \n",
      " 2   MODALIDADE  3401 non-null   int64 \n",
      " 3   CD_PORTE    3401 non-null   object\n",
      " 4   TP_CONT_PL  3401 non-null   int64 \n",
      " 5   DE_TEMA     3401 non-null   int64 \n",
      " 6   SUBTEMA     3401 non-null   int64 \n",
      " 7   SG_UF_BENE  3401 non-null   object\n",
      " 8   CD_MUNIC    3401 non-null   int64 \n",
      " 9   INFORMACAO  3401 non-null   int64 \n",
      "dtypes: int64(8), object(2)\n",
      "memory usage: 265.8+ KB\n"
     ]
    }
   ],
   "source": [
    "df.info()"
   ]
  },
  {
   "cell_type": "markdown",
   "metadata": {},
   "source": [
    "OPERADORA: Código único que identifica a operadora de plano de saúde. Cada operadora de saúde tem um código exclusivo atribuído pela ANS.\n",
    "\n",
    "ID_CMPT: Identificador do mês de competência dos dados, representado no formato AAAAMM (Ano e Mês). Por exemplo, 201001 corresponde a janeiro de 2010.\n",
    "\n",
    "MODALIDADE: Código que indica a modalidade da operadora de saúde, como Medicina de Grupo, Cooperativa Médica, Filantropia, Autogestão, etc. O valor numérico pode corresponder a um tipo específico de modalidade definido pela ANS.\n",
    "\n",
    "CD_PORTE: Código que indica o porte da operadora, que pode ser categorizado em Pequeno, Médio, Grande, etc. Isso está relacionado ao tamanho ou ao volume de operações da operadora.\n",
    "\n",
    "TP_CONT_PL: Tipo de contrato do plano, indicando a natureza do plano de saúde, como individual, coletivo empresarial, coletivo por adesão, etc.\n",
    "\n",
    "DE_TEMA: Descrição do tema ou categoria do dado. Pode representar uma classificação geral do tipo de informação ou evento registrado. (morte, internação, cuidado de idade, etc.)\n",
    "\n",
    "SUBTEMA: Código ou descrição de um subtópico relacionado ao tema principal. Pode fornecer uma categorização mais específica do tipo de demanda ou evento.\n",
    "\n",
    "SG_UF_BENE: Sigla da Unidade Federativa (Estado) onde o beneficiário do plano de saúde reside. Por exemplo, SP para São Paulo, MG para Minas Gerais.\n",
    "\n",
    "CD_MUNIC: Código do município onde o beneficiário reside, conforme o código IBGE.\n",
    "\n",
    "INFORMACAO: Indicador binário ou valor numérico relacionado ao tema/subtema, como presença ou ausência de um evento, ou quantidade de ocorrências."
   ]
  },
  {
   "cell_type": "code",
   "execution_count": 18,
   "metadata": {},
   "outputs": [
    {
     "data": {
      "text/plain": [
       "array([319996, 343889, 306622, 382876, 368253, 300080, 402851, 302872,\n",
       "       359017, 303267, 316491, 357685, 335592,   5711, 320510, 379697,\n",
       "       358771, 302147, 327689, 403911, 325074, 406201, 412171, 312304,\n",
       "       393321, 335690, 317144, 414573, 350095, 319147,   6246, 388122,\n",
       "       326305, 355721, 415405, 415286, 356107, 416339,    515, 303623,\n",
       "       320889, 352501, 335479, 367397, 346926, 372609, 304701, 323080,\n",
       "       363774, 346276, 310344, 340782, 350141, 413399, 412791, 413631,\n",
       "       380041,      1, 347361, 358088, 357511, 370070, 407780, 408913,\n",
       "       384577, 412384, 355356, 364941, 363022, 417173, 309231, 324345,\n",
       "       407011, 357391, 351202, 369659, 360449, 327999, 300926, 385255,\n",
       "       310581, 343731, 355097, 360244, 309907, 411051, 318388, 338362,\n",
       "       346659,     43, 326755, 300195, 386588, 415740, 379956, 350249,\n",
       "       358282, 362921, 366871, 304484, 369292, 303739, 309222, 337510,\n",
       "       352331, 410926,    582, 383538, 348520, 375918, 343013, 339679,\n",
       "       413038, 345458, 319121, 311677, 306665, 359661, 413780, 307408,\n",
       "       325031, 413313, 316458, 352683, 335657, 334588, 371777, 326500,\n",
       "          477, 312851, 411302, 394734, 303364, 344397, 365939, 352187,\n",
       "       353761, 362620, 343269, 327107, 316148, 410985, 301124, 327263,\n",
       "         6980, 333051, 354031, 363766, 315729,   5177, 354554, 348295,\n",
       "       326933, 303259, 411931, 360961,  32731, 358711,    701, 367087,\n",
       "       373010, 301949, 312126,    361, 356123, 301337, 385697, 411213,\n",
       "       407585, 343463, 400190, 300497, 337871, 394009, 315478, 319708,\n",
       "       342807, 343676, 361615, 323268, 303976, 301043, 410624, 377368,\n",
       "       324477, 312592, 331988, 310891, 406481, 342343, 333221, 392804,\n",
       "       371106, 402621, 341550, 368849, 332615, 331872, 325236, 321044,\n",
       "       319546, 342084, 310981, 384054, 327000, 385751, 401081, 347744,\n",
       "           27, 368920, 340332, 412244, 411086, 414310, 402966, 323772,\n",
       "       348805, 339245, 317501, 351679, 371254, 384003, 300136, 402362,\n",
       "       360767, 349755, 414280, 310182, 415693, 318299, 410128, 358169,\n",
       "       323993, 360465, 300713, 365777, 306355, 381161, 376604, 416801,\n",
       "       414581, 309338, 414131, 345270,   5622, 310280, 303356, 361518,\n",
       "       333514, 316296, 305227, 306398, 410136, 337781, 410471, 349682,\n",
       "       416428, 411264, 364584, 314170, 304590, 301906, 404918, 314218,\n",
       "       402796, 305995, 358509, 353574, 336831, 319384, 306886, 344885,\n",
       "       340561, 300870, 340146, 366064, 312924, 341126, 336106, 416304,\n",
       "       340952, 333689, 318566, 358126, 311405, 413275, 343331, 348635,\n",
       "       410888, 365238, 309028, 354350, 392405, 370363, 342505, 339091,\n",
       "       333328, 325252, 335070, 333875,   5720, 354571, 311472, 353787,\n",
       "       408581, 316695, 322261, 412635, 324213, 302953, 400629, 416550,\n",
       "       415774, 379344, 355691, 413798, 348350,   6556, 409707, 324523,\n",
       "       321869, 407003, 313084, 317896, 415758, 354511, 375268, 316881,\n",
       "       323811, 364916, 415448, 306347, 312029, 323977, 409847, 386898,\n",
       "       349577, 344800, 412899, 356832, 328537, 348457, 408514, 321273,\n",
       "       336319, 330183, 312347, 313971, 321338, 417025, 320269, 312762,\n",
       "       326861, 416771, 334154, 327417, 338559, 306444, 311961, 345695,\n",
       "       309168, 334057, 384585, 320706, 310859,   6971, 411256, 320960,\n",
       "       319422, 404446, 306126, 400017, 412759, 415901, 360147, 300748,\n",
       "       331309, 379778, 342033, 412091, 301311, 365718, 304158, 313211,\n",
       "       346870, 416738, 311634, 356417, 335541, 416681, 352942, 311944,\n",
       "       302091, 408221, 337625, 355151, 364860, 409197, 414930, 352861,\n",
       "       413194, 333662, 332381, 322946, 300284, 348066, 304883, 371629,\n",
       "       311847, 315796, 414450, 332682, 343064, 339601, 324698, 372030,\n",
       "       404993, 414298, 343340, 351792, 339954, 362140,     51, 410047,\n",
       "       344362, 403334, 384356, 346471, 336858, 358754, 401773, 350699,\n",
       "       311618, 315567, 348180, 413534,   5118, 413305, 310786, 364312,\n",
       "       316873, 402001, 306762, 370681, 414069, 354066, 402478, 315770,\n",
       "       323055, 324361, 348082, 404047, 410292, 413518, 334782, 320897,\n",
       "       347230, 351091, 345709, 349534, 323004, 309877, 338915, 413968,\n",
       "       338346, 354783, 351407, 301060, 368555, 391727, 336165, 387495,\n",
       "       406350, 412538, 401587, 335100, 319597, 329339, 325571, 304395,\n",
       "       389421, 301574, 312720, 414956, 400360, 395480, 322393, 346292,\n",
       "       311375, 331490, 406554, 349194, 410110, 415014, 403245, 358240,\n",
       "       378216, 337188, 330353, 313955, 363391, 304638, 359289, 329886,\n",
       "       336432, 320820, 339938, 311146, 335835, 336122, 305600, 360414,\n",
       "       401978, 402303, 382540, 406538, 343129, 382833, 337668, 323926,\n",
       "       327867, 380661, 339377, 344877, 348881, 363286, 320790, 350494,\n",
       "       342408, 350362, 314099, 322571, 344443, 366145, 408328, 406589,\n",
       "       348406, 348830, 409464, 380563, 318213, 371904, 320251, 315265,\n",
       "       324809, 314242, 354279, 401846, 335762, 415570, 350222, 324299,\n",
       "       359068, 400751, 355879, 309087, 403962, 369411, 304476, 352055,\n",
       "       366561, 411582,    884, 365921, 344486, 326356, 413372, 350729,\n",
       "       347655, 347507, 402834, 353663, 348244, 415316, 402753, 343765,\n",
       "       402346, 334511, 331341, 328308, 365530, 347591, 351032, 350371,\n",
       "       366811, 370584, 365645, 379280, 348864, 352543, 315630, 328294,\n",
       "       322920, 410161, 404381, 411701, 337374, 353353, 330108, 324671,\n",
       "       329525, 361941, 348261, 417050, 345571, 318906, 411230, 304212,\n",
       "       414719, 414352, 414697, 304051, 407267, 416410, 347736, 324175,\n",
       "       356476, 365785, 300012, 328499, 413348, 319180, 412660, 403954,\n",
       "       402141, 415839, 350559, 385620, 359777, 359122, 321958, 413526,\n",
       "       416401, 313149, 309192, 361461, 412937, 335215, 401137, 344451,\n",
       "       357138, 400106, 307319, 393533, 363413, 329266, 323632, 306649,\n",
       "       310247, 415294, 411558, 330264, 349739, 352586, 417726, 401153,\n",
       "       357294, 327352, 321826, 415952, 350346, 407992], dtype=int64)"
      ]
     },
     "execution_count": 18,
     "metadata": {},
     "output_type": "execute_result"
    }
   ],
   "source": [
    "operadora = df['OPERADORA'].unique()\n",
    "operadora\n"
   ]
  },
  {
   "cell_type": "code",
   "execution_count": 17,
   "metadata": {},
   "outputs": [
    {
     "data": {
      "text/plain": [
       "OPERADORA\n",
       "302872    156\n",
       "326305    100\n",
       "403911     91\n",
       "306622     68\n",
       "6246       65\n",
       "         ... \n",
       "414069      1\n",
       "402478      1\n",
       "315770      1\n",
       "323055      1\n",
       "407992      1\n",
       "Name: count, Length: 662, dtype: int64"
      ]
     },
     "execution_count": 17,
     "metadata": {},
     "output_type": "execute_result"
    }
   ],
   "source": [
    "# contar quantidade de operadoras \n",
    "\n",
    "operadora_count = df['OPERADORA'].value_counts()\n",
    "operadora_count\n"
   ]
  },
  {
   "cell_type": "code",
   "execution_count": 24,
   "metadata": {},
   "outputs": [
    {
     "data": {
      "text/plain": [
       "array([22, 25, 27, 28, 24, 55, 26, 45, 23, 29, 21], dtype=int64)"
      ]
     },
     "execution_count": 24,
     "metadata": {},
     "output_type": "execute_result"
    }
   ],
   "source": [
    "modalidade_operadora = df['MODALIDADE'].unique()\n",
    "modalidade_operadora"
   ]
  },
  {
   "cell_type": "code",
   "execution_count": 25,
   "metadata": {},
   "outputs": [
    {
     "data": {
      "text/plain": [
       "array(['G', 'X', 'M', 'P'], dtype=object)"
      ]
     },
     "execution_count": 25,
     "metadata": {},
     "output_type": "execute_result"
    }
   ],
   "source": [
    "porte_operadora = df['CD_PORTE'].unique()\n",
    "porte_operadora"
   ]
  },
  {
   "cell_type": "code",
   "execution_count": 26,
   "metadata": {},
   "outputs": [
    {
     "data": {
      "text/plain": [
       "array([ 3,  1,  2,  6, 10,  9,  4], dtype=int64)"
      ]
     },
     "execution_count": 26,
     "metadata": {},
     "output_type": "execute_result"
    }
   ],
   "source": [
    "tipo_contrato = df['TP_CONT_PL'].unique()\n",
    "tipo_contrato"
   ]
  },
  {
   "cell_type": "code",
   "execution_count": 10,
   "metadata": {},
   "outputs": [
    {
     "data": {
      "text/plain": [
       "array([ 6,  8, 25, 99,  7, 41,  4, 42, 10, 37, 32, 11, 35, 19, 39, 13, 26,\n",
       "       40, 14], dtype=int64)"
      ]
     },
     "execution_count": 10,
     "metadata": {},
     "output_type": "execute_result"
    }
   ],
   "source": [
    "tema = df['DE_TEMA'].unique()\n",
    "tema"
   ]
  },
  {
   "cell_type": "code",
   "execution_count": 30,
   "metadata": {},
   "outputs": [
    {
     "data": {
      "text/plain": [
       "array([99,  6, 51,  1, 46, 49, 40, 26, 39, 42, 21,  7, 10], dtype=int64)"
      ]
     },
     "execution_count": 30,
     "metadata": {},
     "output_type": "execute_result"
    }
   ],
   "source": [
    "subtema = df['SUBTEMA'].unique()\n",
    "subtema"
   ]
  },
  {
   "cell_type": "code",
   "execution_count": 31,
   "metadata": {},
   "outputs": [
    {
     "data": {
      "text/plain": [
       "array(['SP', 'MG', 'GO', 'CE', 'DF', 'RN', 'RS', 'AL', 'RJ', 'PE', 'BA',\n",
       "       'PB', 'PR', 'PA', 'PI', 'SC', 'SE', 'ES', 'TO', 'MT', 'XX', 'RO',\n",
       "       'AC', 'MA', 'RR', 'MS', 'AM', 'AP'], dtype=object)"
      ]
     },
     "execution_count": 31,
     "metadata": {},
     "output_type": "execute_result"
    }
   ],
   "source": [
    "estado = df['SG_UF_BENE'].unique()\n",
    "estado"
   ]
  },
  {
   "cell_type": "code",
   "execution_count": 32,
   "metadata": {},
   "outputs": [
    {
     "data": {
      "text/plain": [
       "array([350950, 317020, 354340, 520870, 230440, 530010, 352590, 355100,\n",
       "       352440, 240810, 431490, 316553, 430920, 355030, 270430, 354990,\n",
       "       230370, 352500, 330330, 261160, 291480, 430693, 355240, 260940,\n",
       "       330040, 350650, 350160, 354330, 355410, 354850, 330390, 310620,\n",
       "       353440, 354870, 290070, 330340, 250400, 410690, 411370, 352390,\n",
       "       150140, 355150, 351110, 231010, 260290, 520890, 354910, 355220,\n",
       "       221100, 351640, 330270, 420820, 330350, 351060, 353060, 351300,\n",
       "       354780, 292530, 280030, 430460, 260400, 330170, 353980, 320530,\n",
       "       350600, 420540, 292740, 320500, 291360, 330475, 260960, 172100,\n",
       "       260005, 355060, 355450, 330490, 354100, 351880, 292200, 230100,\n",
       "       350410, 430930, 330240, 312770, 510267, 355190, 351380, 410640,\n",
       "       410480, 352940, 260790, 313670,      0, 261070, 355040, 330510,\n",
       "       330285, 250750, 315460, 430860, 330470, 320490, 292400, 230765,\n",
       "       291080, 170210, 250180, 350610, 330455, 350570, 311000, 353670,\n",
       "       350690, 310670, 316370, 260000, 330045, 411520, 410880, 320240,\n",
       "       320520, 330420, 354390, 351960, 330414, 320320, 350320, 410840,\n",
       "       313950, 330000, 261110, 350390, 330320, 315250, 311860, 240800,\n",
       "       431337, 330030, 330430, 353110, 312230, 411560, 330580, 150080,\n",
       "       351280, 352310, 520110, 350250, 110020, 355250, 311840, 430470,\n",
       "       353930, 320130, 350760, 355650, 412410, 120013, 510340, 354980,\n",
       "       211130, 430390, 510020, 510790, 140010, 313720, 354730, 432145,\n",
       "       431240, 354130, 330452, 355280, 354890, 420200, 420500, 500270,\n",
       "       311940, 311550, 351620, 353870, 290750, 320390, 411070, 355370,\n",
       "       354580, 412770, 150553, 500220, 353070, 431870, 291920, 240325,\n",
       "       431440, 290570, 350330, 410040, 352340, 352050, 314520, 316250,\n",
       "       355620, 410430, 521523, 410580, 352180, 421660, 420230, 330080,\n",
       "       313420, 410980, 230220, 352690, 354520, 350590, 420240, 352900,\n",
       "       510795, 411330, 350020, 412550, 320510, 320060, 350040, 350750,\n",
       "       430310, 351905, 431340, 351518, 230030, 432300, 355020, 355540,\n",
       "       350900, 260345, 292070, 410830, 353890, 330200, 353050, 430770,\n",
       "       320120, 355500, 432140, 410150, 352550, 250320, 352480, 260370,\n",
       "       354680, 352470, 510840, 330520, 411420, 310390, 290490, 330190,\n",
       "       355670, 251090, 312675, 430060, 350000, 354880, 330010, 353960,\n",
       "       311410, 330610, 351150, 317010, 280480, 352720, 352000, 500660,\n",
       "       230870, 313130, 353180, 351310, 260680, 291170, 410180, 171320,\n",
       "       330250, 353760, 351907, 431647, 430640, 291800, 310560, 522140,\n",
       "       314015, 315180, 351950, 355070, 351930, 330100, 330020, 430510,\n",
       "       315210, 353900, 315550, 320335, 315170, 352850, 350280, 241255,\n",
       "       431680, 312180, 291840, 260600, 432160, 260760, 353850, 130260,\n",
       "       411180, 330070, 290620, 430040, 355050, 314930, 354800, 351870,\n",
       "       160030, 293070, 230075, 420420, 353530, 411460], dtype=int64)"
      ]
     },
     "execution_count": 32,
     "metadata": {},
     "output_type": "execute_result"
    }
   ],
   "source": [
    "municipio = df['CD_MUNIC'].unique()\n",
    "municipio"
   ]
  },
  {
   "cell_type": "code",
   "execution_count": 33,
   "metadata": {},
   "outputs": [
    {
     "data": {
      "text/plain": [
       "array([   0,    1,    4,    2,    3,    6,    5,   61,   14,    8,   98,\n",
       "         26,   31,   40,    7,   12,   39,   13,   71,   10,    9,   17,\n",
       "         44,   15,   45,   11,   24,   22,   16,   23,   93,   27,   18,\n",
       "         42,   19,  152,   91,   92,  142,  263,   47,   48, 2647,   41,\n",
       "        252,   21,   86,   65,   55,  156,   63,   51, 1354,  279,   38,\n",
       "        109,   53,  631,   20,   81,   25,  236,  749,   28], dtype=int64)"
      ]
     },
     "execution_count": 33,
     "metadata": {},
     "output_type": "execute_result"
    }
   ],
   "source": [
    "informacao = df['INFORMACAO'].unique()\n",
    "informacao"
   ]
  },
  {
   "cell_type": "code",
   "execution_count": null,
   "metadata": {},
   "outputs": [],
   "source": []
  }
 ],
 "metadata": {
  "kernelspec": {
   "display_name": "Python 3",
   "language": "python",
   "name": "python3"
  },
  "language_info": {
   "codemirror_mode": {
    "name": "ipython",
    "version": 3
   },
   "file_extension": ".py",
   "mimetype": "text/x-python",
   "name": "python",
   "nbconvert_exporter": "python",
   "pygments_lexer": "ipython3",
   "version": "3.12.3"
  }
 },
 "nbformat": 4,
 "nbformat_minor": 2
}
