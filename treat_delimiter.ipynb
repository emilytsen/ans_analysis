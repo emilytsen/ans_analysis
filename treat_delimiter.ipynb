{
 "cells": [
  {
   "cell_type": "markdown",
   "metadata": {},
   "source": [
    "### tranformando divisores de ; para ,"
   ]
  },
  {
   "cell_type": "markdown",
   "metadata": {},
   "source": [
    "transformação de 1 arquivo só"
   ]
  },
  {
   "cell_type": "code",
   "execution_count": 2,
   "metadata": {},
   "outputs": [
    {
     "name": "stdout",
     "output_type": "stream",
     "text": [
      "Substituição concluída com sucesso!\n"
     ]
    }
   ],
   "source": [
    "# Caminho do arquivo CSV\n",
    "file_path = r'C:\\Users\\etsen\\OneDrive - JACTO\\Síntegra Digital Health\\Data Science\\DadosExternos\\ans\\beneficiarios\\tb_inf_2010-01.csv'\n",
    "\n",
    "# Abrir o arquivo, ler o conteúdo, fazer a substituição e sobrescrever o arquivo\n",
    "with open(file_path, 'r', encoding='latin-1') as file:\n",
    "    content = file.read()\n",
    "\n",
    "# Substituir ',' por ';'\n",
    "modified_content = content.replace(',', ';')\n",
    "\n",
    "# Escrever o conteúdo modificado de volta no mesmo arquivo\n",
    "with open(file_path, 'w', encoding='utf-8') as file:\n",
    "    file.write(modified_content)\n",
    "\n",
    "print(\"Substituição concluída com sucesso!\")\n"
   ]
  },
  {
   "cell_type": "markdown",
   "metadata": {},
   "source": [
    "transformação de vários arquivos dentro de uma pasta"
   ]
  },
  {
   "cell_type": "code",
   "execution_count": 3,
   "metadata": {},
   "outputs": [
    {
     "name": "stdout",
     "output_type": "stream",
     "text": [
      "Substituição concluída no arquivo: cids_joelho.csv\n",
      "Substituição concluída no arquivo: cids_ombro.csv\n",
      "Substituição concluída no arquivo: cids_quadril.csv\n",
      "Substituição concluída em todos os arquivos!\n"
     ]
    }
   ],
   "source": [
    "import os\n",
    "\n",
    "# Caminho da pasta contendo os arquivos CSV\n",
    "folder_path = r'C:\\Users\\etsen\\OneDrive - JACTO\\Síntegra Digital Health\\Data Science\\DadosExternos\\ans\\cid_list'\n",
    "\n",
    "# Percorrer todos os arquivos na pasta\n",
    "for filename in os.listdir(folder_path):\n",
    "    # Verificar se o arquivo tem a extensão .csv\n",
    "    if filename.endswith('.csv'):\n",
    "        file_path = os.path.join(folder_path, filename)\n",
    "        \n",
    "        # Abrir o arquivo, ler o conteúdo, fazer a substituição e sobrescrever o arquivo\n",
    "        with open(file_path, 'r', encoding='latin-1') as file:\n",
    "            content = file.read()\n",
    "        \n",
    "        # Substituir ',' por ';'\n",
    "        modified_content = content.replace(',', ';')\n",
    "        \n",
    "        # Escrever o conteúdo modificado de volta no mesmo arquivo\n",
    "        with open(file_path, 'w', encoding='utf-8') as file:\n",
    "            file.write(modified_content)\n",
    "        \n",
    "        print(f\"Substituição concluída no arquivo: {filename}\")\n",
    "\n",
    "print(\"Substituição concluída em todos os arquivos!\")\n"
   ]
  }
 ],
 "metadata": {
  "kernelspec": {
   "display_name": "Python 3",
   "language": "python",
   "name": "python3"
  },
  "language_info": {
   "codemirror_mode": {
    "name": "ipython",
    "version": 3
   },
   "file_extension": ".py",
   "mimetype": "text/x-python",
   "name": "python",
   "nbconvert_exporter": "python",
   "pygments_lexer": "ipython3",
   "version": "3.12.3"
  }
 },
 "nbformat": 4,
 "nbformat_minor": 2
}
